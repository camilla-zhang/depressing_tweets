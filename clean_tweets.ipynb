{
  "cells": [
    {
      "cell_type": "markdown",
      "metadata": {
        "id": "8Trtk6lvxl0s"
      },
      "source": [
        "Import Libraries"
      ]
    },
    {
      "cell_type": "code",
      "execution_count": 37,
      "metadata": {
        "colab": {
          "base_uri": "https://localhost:8080/"
        },
        "id": "Y9oMTAHOzriz",
        "outputId": "80e0f5af-2883-4cc0-cd08-99e5b620091f"
      },
      "outputs": [
        {
          "output_type": "stream",
          "name": "stdout",
          "text": [
            "Looking in indexes: https://pypi.org/simple, https://us-python.pkg.dev/colab-wheels/public/simple/\n",
            "Requirement already satisfied: tweepy in /usr/local/lib/python3.8/dist-packages (4.12.1)\n",
            "Requirement already satisfied: oauthlib<4,>=3.2.0 in /usr/local/lib/python3.8/dist-packages (from tweepy) (3.2.2)\n",
            "Requirement already satisfied: requests<3,>=2.27.0 in /usr/local/lib/python3.8/dist-packages (from tweepy) (2.28.2)\n",
            "Requirement already satisfied: requests-oauthlib<2,>=1.2.0 in /usr/local/lib/python3.8/dist-packages (from tweepy) (1.3.1)\n",
            "Requirement already satisfied: charset-normalizer<4,>=2 in /usr/local/lib/python3.8/dist-packages (from requests<3,>=2.27.0->tweepy) (2.1.1)\n",
            "Requirement already satisfied: urllib3<1.27,>=1.21.1 in /usr/local/lib/python3.8/dist-packages (from requests<3,>=2.27.0->tweepy) (1.24.3)\n",
            "Requirement already satisfied: certifi>=2017.4.17 in /usr/local/lib/python3.8/dist-packages (from requests<3,>=2.27.0->tweepy) (2022.12.7)\n",
            "Requirement already satisfied: idna<4,>=2.5 in /usr/local/lib/python3.8/dist-packages (from requests<3,>=2.27.0->tweepy) (2.10)\n",
            "Looking in indexes: https://pypi.org/simple, https://us-python.pkg.dev/colab-wheels/public/simple/\n",
            "Requirement already satisfied: contractions in /usr/local/lib/python3.8/dist-packages (0.1.73)\n",
            "Requirement already satisfied: textsearch>=0.0.21 in /usr/local/lib/python3.8/dist-packages (from contractions) (0.0.24)\n",
            "Requirement already satisfied: anyascii in /usr/local/lib/python3.8/dist-packages (from textsearch>=0.0.21->contractions) (0.3.1)\n",
            "Requirement already satisfied: pyahocorasick in /usr/local/lib/python3.8/dist-packages (from textsearch>=0.0.21->contractions) (2.0.0)\n",
            "Looking in indexes: https://pypi.org/simple, https://us-python.pkg.dev/colab-wheels/public/simple/\n",
            "Requirement already satisfied: nltk in /usr/local/lib/python3.8/dist-packages (3.7)\n",
            "Requirement already satisfied: regex>=2021.8.3 in /usr/local/lib/python3.8/dist-packages (from nltk) (2022.6.2)\n",
            "Requirement already satisfied: joblib in /usr/local/lib/python3.8/dist-packages (from nltk) (1.2.0)\n",
            "Requirement already satisfied: tqdm in /usr/local/lib/python3.8/dist-packages (from nltk) (4.64.1)\n",
            "Requirement already satisfied: click in /usr/local/lib/python3.8/dist-packages (from nltk) (7.1.2)\n",
            "Looking in indexes: https://pypi.org/simple, https://us-python.pkg.dev/colab-wheels/public/simple/\n",
            "Requirement already satisfied: stop_words in /usr/local/lib/python3.8/dist-packages (2018.7.23)\n",
            "Drive already mounted at /content/gdrive; to attempt to forcibly remount, call drive.mount(\"/content/gdrive\", force_remount=True).\n"
          ]
        },
        {
          "output_type": "stream",
          "name": "stderr",
          "text": [
            "[nltk_data] Downloading package stopwords to /root/nltk_data...\n",
            "[nltk_data]   Package stopwords is already up-to-date!\n",
            "[nltk_data] Downloading package punkt to /root/nltk_data...\n",
            "[nltk_data]   Package punkt is already up-to-date!\n",
            "[nltk_data] Downloading package wordnet to /root/nltk_data...\n",
            "[nltk_data]   Package wordnet is already up-to-date!\n",
            "[nltk_data] Downloading package omw-1.4 to /root/nltk_data...\n",
            "[nltk_data]   Package omw-1.4 is already up-to-date!\n"
          ]
        }
      ],
      "source": [
        "!pip install tweepy --upgrade\n",
        "!pip install contractions\n",
        "!pip install nltk\n",
        "!pip install stop_words\n",
        "\n",
        "import tweepy\n",
        "\n",
        "import requests\n",
        "import pandas as pd\n",
        "import numpy as np\n",
        "\n",
        "from google.colab import drive\n",
        "drive.mount('/content/gdrive')\n",
        "import sys\n",
        "sys.path.insert(0,'/content/gdrive/My Drive/Colab Notebooks')\n",
        "import config\n",
        "\n",
        "import contractions\n",
        "import nltk\n",
        "nltk.download('stopwords')\n",
        "nltk.download('punkt')\n",
        "nltk.download('wordnet')\n",
        "nltk.download('omw-1.4')\n",
        "from nltk.corpus import stopwords\n",
        "from nltk.tokenize import word_tokenize\n",
        "from stop_words import get_stop_words"
      ]
    },
    {
      "cell_type": "code",
      "source": [
        "client = tweepy.Client(config.bearer_token) #Insert twitter bearer token"
      ],
      "metadata": {
        "id": "7ybwB3Go0_jr"
      },
      "execution_count": 38,
      "outputs": []
    },
    {
      "cell_type": "markdown",
      "source": [
        "Cleaning Tweets Function"
      ],
      "metadata": {
        "id": "3AdJ-Rfx27J0"
      }
    },
    {
      "cell_type": "code",
      "source": [
        "# Clean data function\n",
        "def clean_tweets(tweets, depressed):\n",
        "\n",
        "  # remove certain words only in tweets w/the word depression \n",
        "  if depressed == True:\n",
        "    # Include tweets only containing the following regular expressions\n",
        "    tweets = tweets.loc[tweets.tweet.str.contains(\"I\\s|I'm|\\sme\\s|feel|felt|i'm|\\smy\\s\"),:] \n",
        "  \n",
        "  # Remove certain words in random tweets\n",
        "  elif depressed == False:\n",
        "    #Remove tweets indicating depression or anxiety\n",
        "    tweets = tweets.loc[tweets.tweet.str.contains(\"\"\"@|depress|anxiety\"\"\") == False,:]\n",
        "\n",
        "\n",
        "  # Lowercase\n",
        "  tweets['tweet'] = tweets['tweet'].str.lower()\n",
        "\n",
        "  # Remove Contractions\n",
        "  revised_tweet_list = []\n",
        "  for tweet in tweets.tweet: \n",
        "    # create an empty list of expanded words\n",
        "    expanded_words = []   \n",
        "    for word in tweet.split():\n",
        "      #  contractions.fix expands the words\n",
        "      expanded_words.append(contractions.fix(word))  \n",
        "    expanded_tweet = ' '.join(expanded_words)\n",
        "    revised_tweet_list.append(expanded_tweet)\n",
        "  tweets['expanded_tweet'] = revised_tweet_list\n",
        "\n",
        "  # Remove Emojis\n",
        "  remove_emojis = []\n",
        "  for expanded_tweet in tweets.expanded_tweet:\n",
        "    expanded_tweet=(expanded_tweet.encode('unicode-escape').decode('ASCII'))\n",
        "    remove_emojis.append(expanded_tweet)\n",
        "  tweets['tweet']= remove_emojis\n",
        "\n",
        "  #Remove links, hashtag sign, ampersand, and UTF-8\n",
        "  tweets = tweets[['tweet', 'id']] .replace({'tweet': {'\\\\.*|\\\\\\\\.*|https.*|amp;|#': ''}}, regex=True)\n",
        "\n",
        "  #Remove short tweets (fewer than 25 characters)\n",
        "  tweets = tweets[tweets['tweet'].str.len()>25]\n",
        "\n",
        "  return(tweets)"
      ],
      "metadata": {
        "id": "bVzxlJpke0Ev"
      },
      "execution_count": null,
      "outputs": []
    },
    {
      "cell_type": "markdown",
      "source": [
        "##Get depressing tweets\n",
        "\n",
        "*Depressed tweets are collected by entering 3 key words and its variants (depressed, antidepressants, anxiety) into our query*"
      ],
      "metadata": {
        "id": "g-1C-LrUunSU"
      }
    },
    {
      "cell_type": "code",
      "execution_count": 39,
      "metadata": {
        "id": "z_nSOeDUSDnq"
      },
      "outputs": [],
      "source": [
        "# Select tweets with words depressed, antidepressants, and anxiety; exclude retweets, replies, and media\n",
        "query_list = [\"depressed lang:en -is:retweet -has:media -is:reply\", \"depression lang:en -is:retweet -has:media -is:reply\", \"antidepressants lang:en -is:retweet -has:media -is:reply\", \"antidepressant lang:en -is:retweet -has:media -is:reply\", \"anxiety lang:en -is:retweet -has:media -is:reply\"]\n",
        "tweets_list = []\n",
        "id_list = []\n",
        "\n",
        "for query in query_list:\n",
        "  tweets = tweepy.Paginator(client.search_recent_tweets, query=query,\n",
        "                              tweet_fields=['context_annotations', 'created_at'], max_results=100).flatten(limit=1200)\n",
        "  for tweet in tweets:\n",
        "      tweets_list.append(tweet.text)\n",
        "      id_list.append(tweet.id)\n",
        "\n",
        "df = pd.DataFrame(tweets_list, columns=['tweet'])\n",
        "df['id'] = id_list\n",
        "pd.options.display.max_colwidth = 300  # set a value as your need"
      ]
    },
    {
      "cell_type": "markdown",
      "source": [
        "### Manually remove irrelevant tweets\n",
        "\n",
        "*Some tweets that depression or anxiety are used casually and don't have enough information to show that the user is depressed. Others use them to describe negative emotional experiences, even if is not an official diagnosis (i.e. hair depression, post-concert depression, etc). Others are used outside of our context of interest, such as the great depression. We manually remove these tweets*"
      ],
      "metadata": {
        "id": "5w1NNMi93IKe"
      }
    },
    {
      "cell_type": "code",
      "source": [
        "df3 = df2.loc[df2.expanded_tweet.str.contains('nor am i depressed|tickets|he got depress|episode|does not give me the anxiety|cannot stop listening to|here are.*tips|album|totsuki|hopes it helps them understand|turns out i just needed|him into.*depression|ferrari|jimi hendrix|hair depress|hate a depressed|them snapchat memories|turns out i just needed|everyone seems depressed|was a depressed kid|he will inevitably get depressed|concert|kumbe|weyes blood|deftones|depressed people|shalin|veronica|depressed person|boobs are my|press a video|math anxiety|notifications|dogging the gym|who quoted this|posting or sharing|boob mri|anxiety eye color|hugs can have several benefits|less and less anxious|to bali|bocchi|anxiety money|never afraid of flying|seriously depressed me|the depressed one|thorfinn|salted caramel|taylor swift exists|research tells us|cough syrup as|yonc|hook up|@|cock|be depress|are depress|depression gone|depression nap|leaving my body|priyanka|eradicate my depression than|saved me from depression|shout out to|cure for depression|depression tweets|hot.*sexy|that was before the depression|great depression|post.* depression|my depression is cured|one with depression|cure[s]? my depression|depressed him|depressed her|is.*depress|you.*depress|my.*depressed|me depressed|not depressed|false alarm|my depressed|is depressed|be depress|depressed\\?|follow|lakers|s[0-9]|watch|news|tv|show|having a sick dog|gender dysphoria|stressed and depressed|stole my antidepressants|going off antidepressants|\".*\"|basil|pharmaceutical compan|click here|works as an antidepressant|antidepressant lamp|clinical trial|antidepressant study|he best antidepressant i have|doki doki|okhty|bruce depression|ride out a depression|hair depression|will remain my antidepressant|teenage aggression|ball of anxiety') == False,:]"
      ],
      "metadata": {
        "id": "242K79LnBMzo"
      },
      "execution_count": 33,
      "outputs": []
    },
    {
      "cell_type": "code",
      "source": [
        "#Get cleaned depressed tweets\n",
        "df3 = clean_tweets(df, True)\n",
        "df3.head()"
      ],
      "metadata": {
        "colab": {
          "base_uri": "https://localhost:8080/",
          "height": 206
        },
        "id": "VITHx2dbmntw",
        "outputId": "d3b5c235-3f51-4788-a6a5-793511cb269d"
      },
      "execution_count": null,
      "outputs": [
        {
          "output_type": "execute_result",
          "data": {
            "text/plain": [
              "                                                                                                                                                          tweet  \\\n",
              "17  working from home today because i am depressed and making corporate small task at the office is the most energy taxing activity out of all my work projects   \n",
              "20                                                                                      i been feeling down and depressed like i need one night to go skin out    \n",
              "32                                                                                      i think i am depressed because i am not even excited for antman anymore   \n",
              "40                                          i am such a fucking extrovert that i get horribly depressed when i do not have regular interaction this is so tough   \n",
              "41                            i am severely depressed and i think the only things that will help me out of my current state are a mall pretzel and a new tattoo   \n",
              "\n",
              "                     id  \n",
              "17  1623010166575706130  \n",
              "20  1623010091174703104  \n",
              "32  1623009514806181888  \n",
              "40  1623009130792329216  \n",
              "41  1623009040333778959  "
            ],
            "text/html": [
              "\n",
              "  <div id=\"df-3c2b3770-d82b-4ce9-989d-263996baa9c3\">\n",
              "    <div class=\"colab-df-container\">\n",
              "      <div>\n",
              "<style scoped>\n",
              "    .dataframe tbody tr th:only-of-type {\n",
              "        vertical-align: middle;\n",
              "    }\n",
              "\n",
              "    .dataframe tbody tr th {\n",
              "        vertical-align: top;\n",
              "    }\n",
              "\n",
              "    .dataframe thead th {\n",
              "        text-align: right;\n",
              "    }\n",
              "</style>\n",
              "<table border=\"1\" class=\"dataframe\">\n",
              "  <thead>\n",
              "    <tr style=\"text-align: right;\">\n",
              "      <th></th>\n",
              "      <th>tweet</th>\n",
              "      <th>id</th>\n",
              "    </tr>\n",
              "  </thead>\n",
              "  <tbody>\n",
              "    <tr>\n",
              "      <th>17</th>\n",
              "      <td>working from home today because i am depressed and making corporate small task at the office is the most energy taxing activity out of all my work projects</td>\n",
              "      <td>1623010166575706130</td>\n",
              "    </tr>\n",
              "    <tr>\n",
              "      <th>20</th>\n",
              "      <td>i been feeling down and depressed like i need one night to go skin out</td>\n",
              "      <td>1623010091174703104</td>\n",
              "    </tr>\n",
              "    <tr>\n",
              "      <th>32</th>\n",
              "      <td>i think i am depressed because i am not even excited for antman anymore</td>\n",
              "      <td>1623009514806181888</td>\n",
              "    </tr>\n",
              "    <tr>\n",
              "      <th>40</th>\n",
              "      <td>i am such a fucking extrovert that i get horribly depressed when i do not have regular interaction this is so tough</td>\n",
              "      <td>1623009130792329216</td>\n",
              "    </tr>\n",
              "    <tr>\n",
              "      <th>41</th>\n",
              "      <td>i am severely depressed and i think the only things that will help me out of my current state are a mall pretzel and a new tattoo</td>\n",
              "      <td>1623009040333778959</td>\n",
              "    </tr>\n",
              "  </tbody>\n",
              "</table>\n",
              "</div>\n",
              "      <button class=\"colab-df-convert\" onclick=\"convertToInteractive('df-3c2b3770-d82b-4ce9-989d-263996baa9c3')\"\n",
              "              title=\"Convert this dataframe to an interactive table.\"\n",
              "              style=\"display:none;\">\n",
              "        \n",
              "  <svg xmlns=\"http://www.w3.org/2000/svg\" height=\"24px\"viewBox=\"0 0 24 24\"\n",
              "       width=\"24px\">\n",
              "    <path d=\"M0 0h24v24H0V0z\" fill=\"none\"/>\n",
              "    <path d=\"M18.56 5.44l.94 2.06.94-2.06 2.06-.94-2.06-.94-.94-2.06-.94 2.06-2.06.94zm-11 1L8.5 8.5l.94-2.06 2.06-.94-2.06-.94L8.5 2.5l-.94 2.06-2.06.94zm10 10l.94 2.06.94-2.06 2.06-.94-2.06-.94-.94-2.06-.94 2.06-2.06.94z\"/><path d=\"M17.41 7.96l-1.37-1.37c-.4-.4-.92-.59-1.43-.59-.52 0-1.04.2-1.43.59L10.3 9.45l-7.72 7.72c-.78.78-.78 2.05 0 2.83L4 21.41c.39.39.9.59 1.41.59.51 0 1.02-.2 1.41-.59l7.78-7.78 2.81-2.81c.8-.78.8-2.07 0-2.86zM5.41 20L4 18.59l7.72-7.72 1.47 1.35L5.41 20z\"/>\n",
              "  </svg>\n",
              "      </button>\n",
              "      \n",
              "  <style>\n",
              "    .colab-df-container {\n",
              "      display:flex;\n",
              "      flex-wrap:wrap;\n",
              "      gap: 12px;\n",
              "    }\n",
              "\n",
              "    .colab-df-convert {\n",
              "      background-color: #E8F0FE;\n",
              "      border: none;\n",
              "      border-radius: 50%;\n",
              "      cursor: pointer;\n",
              "      display: none;\n",
              "      fill: #1967D2;\n",
              "      height: 32px;\n",
              "      padding: 0 0 0 0;\n",
              "      width: 32px;\n",
              "    }\n",
              "\n",
              "    .colab-df-convert:hover {\n",
              "      background-color: #E2EBFA;\n",
              "      box-shadow: 0px 1px 2px rgba(60, 64, 67, 0.3), 0px 1px 3px 1px rgba(60, 64, 67, 0.15);\n",
              "      fill: #174EA6;\n",
              "    }\n",
              "\n",
              "    [theme=dark] .colab-df-convert {\n",
              "      background-color: #3B4455;\n",
              "      fill: #D2E3FC;\n",
              "    }\n",
              "\n",
              "    [theme=dark] .colab-df-convert:hover {\n",
              "      background-color: #434B5C;\n",
              "      box-shadow: 0px 1px 3px 1px rgba(0, 0, 0, 0.15);\n",
              "      filter: drop-shadow(0px 1px 2px rgba(0, 0, 0, 0.3));\n",
              "      fill: #FFFFFF;\n",
              "    }\n",
              "  </style>\n",
              "\n",
              "      <script>\n",
              "        const buttonEl =\n",
              "          document.querySelector('#df-3c2b3770-d82b-4ce9-989d-263996baa9c3 button.colab-df-convert');\n",
              "        buttonEl.style.display =\n",
              "          google.colab.kernel.accessAllowed ? 'block' : 'none';\n",
              "\n",
              "        async function convertToInteractive(key) {\n",
              "          const element = document.querySelector('#df-3c2b3770-d82b-4ce9-989d-263996baa9c3');\n",
              "          const dataTable =\n",
              "            await google.colab.kernel.invokeFunction('convertToInteractive',\n",
              "                                                     [key], {});\n",
              "          if (!dataTable) return;\n",
              "\n",
              "          const docLinkHtml = 'Like what you see? Visit the ' +\n",
              "            '<a target=\"_blank\" href=https://colab.research.google.com/notebooks/data_table.ipynb>data table notebook</a>'\n",
              "            + ' to learn more about interactive tables.';\n",
              "          element.innerHTML = '';\n",
              "          dataTable['output_type'] = 'display_data';\n",
              "          await google.colab.output.renderOutput(dataTable, element);\n",
              "          const docLink = document.createElement('div');\n",
              "          docLink.innerHTML = docLinkHtml;\n",
              "          element.appendChild(docLink);\n",
              "        }\n",
              "      </script>\n",
              "    </div>\n",
              "  </div>\n",
              "  "
            ]
          },
          "metadata": {},
          "execution_count": 222
        }
      ]
    },
    {
      "cell_type": "markdown",
      "source": [
        "## Get non-depressing tweets w/word depression"
      ],
      "metadata": {
        "id": "v2RKRcbzjcd8"
      }
    },
    {
      "cell_type": "code",
      "source": [
        "non_depressed = df2.loc[df2.expanded_tweet.str.contains('nor am i depressed|tickets|he got depress|cannot stop listening to|everyone seems depressed|was a depressed kid|he will inevitably get depressed|totsuki|anxiety eye color|here are.*tips|hopes it helps them understand|less and less anxious|cough syrup as|hugs can have several benefits|taylor swift exists|salted caramel|people prescribed antidepressants|him into.*depression|gender dysphoria|ferrari|great depression|hair depress')== True,:]\n",
        "non_depressed = clean_tweets(non_depressed, True) # Clean data"
      ],
      "metadata": {
        "id": "OJjUr4Rfhr_E"
      },
      "execution_count": null,
      "outputs": []
    },
    {
      "cell_type": "code",
      "source": [
        "non_depressed.head()"
      ],
      "metadata": {
        "colab": {
          "base_uri": "https://localhost:8080/",
          "height": 206
        },
        "id": "KDEsYMPjlrFb",
        "outputId": "9825fbf3-d05c-45c6-c3dd-1f7442ec9edd"
      },
      "execution_count": null,
      "outputs": [
        {
          "output_type": "execute_result",
          "data": {
            "text/plain": [
              "                                                                                                                       tweet  \\\n",
              "5               well, we did each other's hair for a week then she got depressed and stopped doing dishes and now i hate her   \n",
              "9                                     side note, i still do not have tickets for sza at td, so now i am even more depressed    \n",
              "12   i am not an angry nigga nor am i depressed but it is just something bout a mf saying goodmorning to me that piss me off   \n",
              "37                                              she saw me depressed about renny tickets and dropped this , thank you queen    \n",
              "121                                          help me i do not think i am depressed but i cannot stop listening to aimee mann   \n",
              "\n",
              "                      id  \n",
              "5    1623010857834909701  \n",
              "9    1623010751056162842  \n",
              "12   1623010595653005324  \n",
              "37   1623009398749806597  \n",
              "121  1623004510108143618  "
            ],
            "text/html": [
              "\n",
              "  <div id=\"df-ed916ca7-d40e-4576-8c75-6f69e0b9169c\">\n",
              "    <div class=\"colab-df-container\">\n",
              "      <div>\n",
              "<style scoped>\n",
              "    .dataframe tbody tr th:only-of-type {\n",
              "        vertical-align: middle;\n",
              "    }\n",
              "\n",
              "    .dataframe tbody tr th {\n",
              "        vertical-align: top;\n",
              "    }\n",
              "\n",
              "    .dataframe thead th {\n",
              "        text-align: right;\n",
              "    }\n",
              "</style>\n",
              "<table border=\"1\" class=\"dataframe\">\n",
              "  <thead>\n",
              "    <tr style=\"text-align: right;\">\n",
              "      <th></th>\n",
              "      <th>tweet</th>\n",
              "      <th>id</th>\n",
              "    </tr>\n",
              "  </thead>\n",
              "  <tbody>\n",
              "    <tr>\n",
              "      <th>5</th>\n",
              "      <td>well, we did each other's hair for a week then she got depressed and stopped doing dishes and now i hate her</td>\n",
              "      <td>1623010857834909701</td>\n",
              "    </tr>\n",
              "    <tr>\n",
              "      <th>9</th>\n",
              "      <td>side note, i still do not have tickets for sza at td, so now i am even more depressed</td>\n",
              "      <td>1623010751056162842</td>\n",
              "    </tr>\n",
              "    <tr>\n",
              "      <th>12</th>\n",
              "      <td>i am not an angry nigga nor am i depressed but it is just something bout a mf saying goodmorning to me that piss me off</td>\n",
              "      <td>1623010595653005324</td>\n",
              "    </tr>\n",
              "    <tr>\n",
              "      <th>37</th>\n",
              "      <td>she saw me depressed about renny tickets and dropped this , thank you queen</td>\n",
              "      <td>1623009398749806597</td>\n",
              "    </tr>\n",
              "    <tr>\n",
              "      <th>121</th>\n",
              "      <td>help me i do not think i am depressed but i cannot stop listening to aimee mann</td>\n",
              "      <td>1623004510108143618</td>\n",
              "    </tr>\n",
              "  </tbody>\n",
              "</table>\n",
              "</div>\n",
              "      <button class=\"colab-df-convert\" onclick=\"convertToInteractive('df-ed916ca7-d40e-4576-8c75-6f69e0b9169c')\"\n",
              "              title=\"Convert this dataframe to an interactive table.\"\n",
              "              style=\"display:none;\">\n",
              "        \n",
              "  <svg xmlns=\"http://www.w3.org/2000/svg\" height=\"24px\"viewBox=\"0 0 24 24\"\n",
              "       width=\"24px\">\n",
              "    <path d=\"M0 0h24v24H0V0z\" fill=\"none\"/>\n",
              "    <path d=\"M18.56 5.44l.94 2.06.94-2.06 2.06-.94-2.06-.94-.94-2.06-.94 2.06-2.06.94zm-11 1L8.5 8.5l.94-2.06 2.06-.94-2.06-.94L8.5 2.5l-.94 2.06-2.06.94zm10 10l.94 2.06.94-2.06 2.06-.94-2.06-.94-.94-2.06-.94 2.06-2.06.94z\"/><path d=\"M17.41 7.96l-1.37-1.37c-.4-.4-.92-.59-1.43-.59-.52 0-1.04.2-1.43.59L10.3 9.45l-7.72 7.72c-.78.78-.78 2.05 0 2.83L4 21.41c.39.39.9.59 1.41.59.51 0 1.02-.2 1.41-.59l7.78-7.78 2.81-2.81c.8-.78.8-2.07 0-2.86zM5.41 20L4 18.59l7.72-7.72 1.47 1.35L5.41 20z\"/>\n",
              "  </svg>\n",
              "      </button>\n",
              "      \n",
              "  <style>\n",
              "    .colab-df-container {\n",
              "      display:flex;\n",
              "      flex-wrap:wrap;\n",
              "      gap: 12px;\n",
              "    }\n",
              "\n",
              "    .colab-df-convert {\n",
              "      background-color: #E8F0FE;\n",
              "      border: none;\n",
              "      border-radius: 50%;\n",
              "      cursor: pointer;\n",
              "      display: none;\n",
              "      fill: #1967D2;\n",
              "      height: 32px;\n",
              "      padding: 0 0 0 0;\n",
              "      width: 32px;\n",
              "    }\n",
              "\n",
              "    .colab-df-convert:hover {\n",
              "      background-color: #E2EBFA;\n",
              "      box-shadow: 0px 1px 2px rgba(60, 64, 67, 0.3), 0px 1px 3px 1px rgba(60, 64, 67, 0.15);\n",
              "      fill: #174EA6;\n",
              "    }\n",
              "\n",
              "    [theme=dark] .colab-df-convert {\n",
              "      background-color: #3B4455;\n",
              "      fill: #D2E3FC;\n",
              "    }\n",
              "\n",
              "    [theme=dark] .colab-df-convert:hover {\n",
              "      background-color: #434B5C;\n",
              "      box-shadow: 0px 1px 3px 1px rgba(0, 0, 0, 0.15);\n",
              "      filter: drop-shadow(0px 1px 2px rgba(0, 0, 0, 0.3));\n",
              "      fill: #FFFFFF;\n",
              "    }\n",
              "  </style>\n",
              "\n",
              "      <script>\n",
              "        const buttonEl =\n",
              "          document.querySelector('#df-ed916ca7-d40e-4576-8c75-6f69e0b9169c button.colab-df-convert');\n",
              "        buttonEl.style.display =\n",
              "          google.colab.kernel.accessAllowed ? 'block' : 'none';\n",
              "\n",
              "        async function convertToInteractive(key) {\n",
              "          const element = document.querySelector('#df-ed916ca7-d40e-4576-8c75-6f69e0b9169c');\n",
              "          const dataTable =\n",
              "            await google.colab.kernel.invokeFunction('convertToInteractive',\n",
              "                                                     [key], {});\n",
              "          if (!dataTable) return;\n",
              "\n",
              "          const docLinkHtml = 'Like what you see? Visit the ' +\n",
              "            '<a target=\"_blank\" href=https://colab.research.google.com/notebooks/data_table.ipynb>data table notebook</a>'\n",
              "            + ' to learn more about interactive tables.';\n",
              "          element.innerHTML = '';\n",
              "          dataTable['output_type'] = 'display_data';\n",
              "          await google.colab.output.renderOutput(dataTable, element);\n",
              "          const docLink = document.createElement('div');\n",
              "          docLink.innerHTML = docLinkHtml;\n",
              "          element.appendChild(docLink);\n",
              "        }\n",
              "      </script>\n",
              "    </div>\n",
              "  </div>\n",
              "  "
            ]
          },
          "metadata": {},
          "execution_count": 223
        }
      ]
    },
    {
      "cell_type": "markdown",
      "source": [
        "##Get random tweets"
      ],
      "metadata": {
        "id": "2cC-a_4Bupn7"
      }
    },
    {
      "cell_type": "code",
      "source": [
        "# Get tweets\n",
        "random_tweets_list = []\n",
        "random_id_list = []\n",
        "\n",
        "random_tweets = tweepy.Paginator(client.search_recent_tweets, query = \"lang:en -is:retweet -has:media -the the\",\n",
        "                              tweet_fields=['context_annotations', 'created_at'], max_results=100).flatten(limit=6000)\n",
        "for random_tweet in random_tweets:\n",
        "    random_tweets_list.append(random_tweet.text)\n",
        "    random_id_list.append(random_tweet.id)\n",
        "\n",
        "rdf = pd.DataFrame(random_tweets_list, columns=['tweet'])\n",
        "rdf['id'] = random_id_list\n",
        "pd.options.display.max_colwidth = 300\n",
        "\n",
        "rdf2 = clean_tweets(rdf, False)"
      ],
      "metadata": {
        "id": "wCXZPUk7Ua2G",
        "colab": {
          "base_uri": "https://localhost:8080/"
        },
        "outputId": "9222e16b-66b5-4c95-8f14-fe7feb5236b3"
      },
      "execution_count": 47,
      "outputs": [
        {
          "output_type": "stream",
          "name": "stderr",
          "text": [
            "<ipython-input-44-43bf30786194>:13: SettingWithCopyWarning: \n",
            "A value is trying to be set on a copy of a slice from a DataFrame.\n",
            "Try using .loc[row_indexer,col_indexer] = value instead\n",
            "\n",
            "See the caveats in the documentation: https://pandas.pydata.org/pandas-docs/stable/user_guide/indexing.html#returning-a-view-versus-a-copy\n",
            "  tweets['tweet'] = tweets['tweet'].str.lower()\n",
            "<ipython-input-44-43bf30786194>:25: SettingWithCopyWarning: \n",
            "A value is trying to be set on a copy of a slice from a DataFrame.\n",
            "Try using .loc[row_indexer,col_indexer] = value instead\n",
            "\n",
            "See the caveats in the documentation: https://pandas.pydata.org/pandas-docs/stable/user_guide/indexing.html#returning-a-view-versus-a-copy\n",
            "  tweets['expanded_tweet'] = revised_tweet_list\n",
            "<ipython-input-44-43bf30786194>:32: SettingWithCopyWarning: \n",
            "A value is trying to be set on a copy of a slice from a DataFrame.\n",
            "Try using .loc[row_indexer,col_indexer] = value instead\n",
            "\n",
            "See the caveats in the documentation: https://pandas.pydata.org/pandas-docs/stable/user_guide/indexing.html#returning-a-view-versus-a-copy\n",
            "  tweets['tweet']= remove_emojis\n"
          ]
        }
      ]
    },
    {
      "cell_type": "code",
      "source": [
        "len(rdf2)"
      ],
      "metadata": {
        "colab": {
          "base_uri": "https://localhost:8080/"
        },
        "id": "FtgW4AazTY1i",
        "outputId": "eee98ab3-d9cd-4f63-abbe-e03eab08f24f"
      },
      "execution_count": 23,
      "outputs": [
        {
          "output_type": "execute_result",
          "data": {
            "text/plain": [
              "2295"
            ]
          },
          "metadata": {},
          "execution_count": 23
        }
      ]
    },
    {
      "cell_type": "code",
      "source": [
        "rdf2.head()"
      ],
      "metadata": {
        "colab": {
          "base_uri": "https://localhost:8080/",
          "height": 206
        },
        "id": "P3t3w2lQVEAH",
        "outputId": "48a46700-6a1a-43b4-f224-d6a38150a79e"
      },
      "execution_count": 48,
      "outputs": [
        {
          "output_type": "execute_result",
          "data": {
            "text/plain": [
              "                                                                                                    tweet  \\\n",
              "0              i had like 8 alarms set and still overslept that is like letting a hail mary get completed   \n",
              "2   my burner page really be getting followers like ion even by tweeting shit just liking filth in peace    \n",
              "5                                    i am going to shit my mouth because yeen gon like what i got to say    \n",
              "9                                                              you conducted yourself like a child today    \n",
              "24                                                                have a day full of bing bong everyone!!   \n",
              "\n",
              "                     id  \n",
              "0   1623546544904609793  \n",
              "2   1623546544887836681  \n",
              "5   1623546544850087937  \n",
              "9   1623546544774586371  \n",
              "24  1623546544632008705  "
            ],
            "text/html": [
              "\n",
              "  <div id=\"df-0dd09303-91ca-44e7-a59f-cd5a62d03bc6\">\n",
              "    <div class=\"colab-df-container\">\n",
              "      <div>\n",
              "<style scoped>\n",
              "    .dataframe tbody tr th:only-of-type {\n",
              "        vertical-align: middle;\n",
              "    }\n",
              "\n",
              "    .dataframe tbody tr th {\n",
              "        vertical-align: top;\n",
              "    }\n",
              "\n",
              "    .dataframe thead th {\n",
              "        text-align: right;\n",
              "    }\n",
              "</style>\n",
              "<table border=\"1\" class=\"dataframe\">\n",
              "  <thead>\n",
              "    <tr style=\"text-align: right;\">\n",
              "      <th></th>\n",
              "      <th>tweet</th>\n",
              "      <th>id</th>\n",
              "    </tr>\n",
              "  </thead>\n",
              "  <tbody>\n",
              "    <tr>\n",
              "      <th>0</th>\n",
              "      <td>i had like 8 alarms set and still overslept that is like letting a hail mary get completed</td>\n",
              "      <td>1623546544904609793</td>\n",
              "    </tr>\n",
              "    <tr>\n",
              "      <th>2</th>\n",
              "      <td>my burner page really be getting followers like ion even by tweeting shit just liking filth in peace</td>\n",
              "      <td>1623546544887836681</td>\n",
              "    </tr>\n",
              "    <tr>\n",
              "      <th>5</th>\n",
              "      <td>i am going to shit my mouth because yeen gon like what i got to say</td>\n",
              "      <td>1623546544850087937</td>\n",
              "    </tr>\n",
              "    <tr>\n",
              "      <th>9</th>\n",
              "      <td>you conducted yourself like a child today</td>\n",
              "      <td>1623546544774586371</td>\n",
              "    </tr>\n",
              "    <tr>\n",
              "      <th>24</th>\n",
              "      <td>have a day full of bing bong everyone!!</td>\n",
              "      <td>1623546544632008705</td>\n",
              "    </tr>\n",
              "  </tbody>\n",
              "</table>\n",
              "</div>\n",
              "      <button class=\"colab-df-convert\" onclick=\"convertToInteractive('df-0dd09303-91ca-44e7-a59f-cd5a62d03bc6')\"\n",
              "              title=\"Convert this dataframe to an interactive table.\"\n",
              "              style=\"display:none;\">\n",
              "        \n",
              "  <svg xmlns=\"http://www.w3.org/2000/svg\" height=\"24px\"viewBox=\"0 0 24 24\"\n",
              "       width=\"24px\">\n",
              "    <path d=\"M0 0h24v24H0V0z\" fill=\"none\"/>\n",
              "    <path d=\"M18.56 5.44l.94 2.06.94-2.06 2.06-.94-2.06-.94-.94-2.06-.94 2.06-2.06.94zm-11 1L8.5 8.5l.94-2.06 2.06-.94-2.06-.94L8.5 2.5l-.94 2.06-2.06.94zm10 10l.94 2.06.94-2.06 2.06-.94-2.06-.94-.94-2.06-.94 2.06-2.06.94z\"/><path d=\"M17.41 7.96l-1.37-1.37c-.4-.4-.92-.59-1.43-.59-.52 0-1.04.2-1.43.59L10.3 9.45l-7.72 7.72c-.78.78-.78 2.05 0 2.83L4 21.41c.39.39.9.59 1.41.59.51 0 1.02-.2 1.41-.59l7.78-7.78 2.81-2.81c.8-.78.8-2.07 0-2.86zM5.41 20L4 18.59l7.72-7.72 1.47 1.35L5.41 20z\"/>\n",
              "  </svg>\n",
              "      </button>\n",
              "      \n",
              "  <style>\n",
              "    .colab-df-container {\n",
              "      display:flex;\n",
              "      flex-wrap:wrap;\n",
              "      gap: 12px;\n",
              "    }\n",
              "\n",
              "    .colab-df-convert {\n",
              "      background-color: #E8F0FE;\n",
              "      border: none;\n",
              "      border-radius: 50%;\n",
              "      cursor: pointer;\n",
              "      display: none;\n",
              "      fill: #1967D2;\n",
              "      height: 32px;\n",
              "      padding: 0 0 0 0;\n",
              "      width: 32px;\n",
              "    }\n",
              "\n",
              "    .colab-df-convert:hover {\n",
              "      background-color: #E2EBFA;\n",
              "      box-shadow: 0px 1px 2px rgba(60, 64, 67, 0.3), 0px 1px 3px 1px rgba(60, 64, 67, 0.15);\n",
              "      fill: #174EA6;\n",
              "    }\n",
              "\n",
              "    [theme=dark] .colab-df-convert {\n",
              "      background-color: #3B4455;\n",
              "      fill: #D2E3FC;\n",
              "    }\n",
              "\n",
              "    [theme=dark] .colab-df-convert:hover {\n",
              "      background-color: #434B5C;\n",
              "      box-shadow: 0px 1px 3px 1px rgba(0, 0, 0, 0.15);\n",
              "      filter: drop-shadow(0px 1px 2px rgba(0, 0, 0, 0.3));\n",
              "      fill: #FFFFFF;\n",
              "    }\n",
              "  </style>\n",
              "\n",
              "      <script>\n",
              "        const buttonEl =\n",
              "          document.querySelector('#df-0dd09303-91ca-44e7-a59f-cd5a62d03bc6 button.colab-df-convert');\n",
              "        buttonEl.style.display =\n",
              "          google.colab.kernel.accessAllowed ? 'block' : 'none';\n",
              "\n",
              "        async function convertToInteractive(key) {\n",
              "          const element = document.querySelector('#df-0dd09303-91ca-44e7-a59f-cd5a62d03bc6');\n",
              "          const dataTable =\n",
              "            await google.colab.kernel.invokeFunction('convertToInteractive',\n",
              "                                                     [key], {});\n",
              "          if (!dataTable) return;\n",
              "\n",
              "          const docLinkHtml = 'Like what you see? Visit the ' +\n",
              "            '<a target=\"_blank\" href=https://colab.research.google.com/notebooks/data_table.ipynb>data table notebook</a>'\n",
              "            + ' to learn more about interactive tables.';\n",
              "          element.innerHTML = '';\n",
              "          dataTable['output_type'] = 'display_data';\n",
              "          await google.colab.output.renderOutput(dataTable, element);\n",
              "          const docLink = document.createElement('div');\n",
              "          docLink.innerHTML = docLinkHtml;\n",
              "          element.appendChild(docLink);\n",
              "        }\n",
              "      </script>\n",
              "    </div>\n",
              "  </div>\n",
              "  "
            ]
          },
          "metadata": {},
          "execution_count": 48
        }
      ]
    },
    {
      "cell_type": "code",
      "source": [
        "# Add target variables to tweets\n",
        "df3['depressed'] = 1\n",
        "non_depressed['depressed'] = 0\n",
        "rdf2['depressed'] = 0\n",
        "\n",
        "# Export to CSV\n",
        "df3.to_csv(r'depressed_tweets.csv')\n",
        "non_depressed.to_csv(r'non_depressed.csv')\n",
        "rdf2.to_csv(r'random_tweets.csv')"
      ],
      "metadata": {
        "id": "xVEeqw3qjwHO"
      },
      "execution_count": null,
      "outputs": []
    }
  ],
  "metadata": {
    "colab": {
      "provenance": []
    },
    "kernelspec": {
      "display_name": "Python 3",
      "name": "python3"
    },
    "language_info": {
      "name": "python"
    }
  },
  "nbformat": 4,
  "nbformat_minor": 0
}